{
 "cells": [
  {
   "cell_type": "code",
   "execution_count": 1,
   "id": "803ad7a8",
   "metadata": {},
   "outputs": [],
   "source": [
    "import pandas as pd\n",
    "\n",
    "data = pd.read_csv(r'C:\\Users\\Arrivy\\Downloads\\tasks.csv')"
   ]
  },
  {
   "cell_type": "code",
   "execution_count": 2,
   "id": "48760466",
   "metadata": {},
   "outputs": [
    {
     "data": {
      "image/png": "[encoded data removed]",
      "text/plain": [
       "<Figure size 640x480 with 1 Axes>"
      ]
     },
     "metadata": {},
     "output_type": "display_data"
    }
   ],
   "source": [
    "import matplotlib.pyplot as plt\n",
    "\n",
    "# Example dataset\n",
    "data = {'column_name': [1, 2, 2, 3, 3, 3, 4, 4, 4, 4]}\n",
    "\n",
    "# Creating a histogram\n",
    "plt.hist(data['column_name'], bins=[1, 2, 3, 4, 5], edgecolor='black')\n",
    "plt.xlabel('Values')\n",
    "plt.ylabel('Frequency')\n",
    "plt.title('Histogram of Values')\n",
    "plt.show()"
   ]
  },
  {
   "cell_type": "code",
   "execution_count": 4,
   "id": "296520de",
   "metadata": {},
   "outputs": [],
   "source": [
    "import seaborn as sns"
   ]
  },
  {
   "cell_type": "code",
   "execution_count": 5,
   "id": "d9d521b2",
   "metadata": {},
   "outputs": [],
   "source": [
    "data = pd.read_csv(r'C:\\Users\\Arrivy\\Downloads\\tasks.csv')"
   ]
  },
  {
   "cell_type": "code",
   "execution_count": 7,
   "id": "f6d70a11",
   "metadata": {},
   "outputs": [],
   "source": [
    "total_tasks = len(data)"
   ]
  },
  {
   "cell_type": "code",
   "execution_count": 10,
   "id": "34a359bd",
   "metadata": {},
   "outputs": [],
   "source": [
    "completed_tasks = len(data[data['Status'] == 'Complete'])"
   ]
  },
  {
   "cell_type": "code",
   "execution_count": 22,
   "id": "68eae7ec",
   "metadata": {},
   "outputs": [],
   "source": [
    "# Convert the task_start_datetime and task_end_datetime to pandas datetime\n",
    "data['Actual Start Time'] = pd.to_datetime(data['Actual Start Time'])"
   ]
  },
  {
   "cell_type": "code",
   "execution_count": 21,
   "id": "095d6179",
   "metadata": {},
   "outputs": [],
   "source": [
    "data['Actual End Time'] = pd.to_datetime(data['Actual End Time'])"
   ]
  },
  {
   "cell_type": "code",
   "execution_count": 23,
   "id": "daa13187",
   "metadata": {},
   "outputs": [],
   "source": [
    "# Calculate the task_time in minutes\n",
    "data['task_time'] = (data['Actual End Time'] - data['Actual Start Time']).dt.total_seconds() / 60.0"
   ]
  },
  {
   "cell_type": "code",
   "execution_count": 24,
   "id": "ac72558f",
   "metadata": {},
   "outputs": [],
   "source": [
    "#the total task time in hours\n",
    "total_task_time = data['task_time'].sum() / 60.0  # converting total task time to hours"
   ]
  },
  {
   "cell_type": "code",
   "execution_count": 26,
   "id": "a823c4fe",
   "metadata": {},
   "outputs": [
    {
     "name": "stdout",
     "output_type": "stream",
     "text": [
      "Total Task Time (in hours): 0.0\n"
     ]
    }
   ],
   "source": [
    "# Display the total task time\n",
    "print(f'Total Task Time (in hours): {total_task_time}')"
   ]
  },
  {
   "cell_type": "code",
   "execution_count": 27,
   "id": "9bb3c8e6",
   "metadata": {},
   "outputs": [],
   "source": [
    "# Calculate the task_time in minutes\n",
    "data['task_time'] = (data['Actual End Time'] - data['Actual Start Time']).dt.total_seconds() / 60.0"
   ]
  },
  {
   "cell_type": "code",
   "execution_count": 28,
   "id": "ffb41f93",
   "metadata": {},
   "outputs": [],
   "source": [
    "# Calculate the total task time in minutes\n",
    "total_task_time = data['task_time'].sum()"
   ]
  },
  {
   "cell_type": "code",
   "execution_count": 29,
   "id": "e08f925a",
   "metadata": {},
   "outputs": [
    {
     "name": "stdout",
     "output_type": "stream",
     "text": [
      "Total Task Time (in minutes): 0.0\n"
     ]
    }
   ],
   "source": [
    "print(f'Total Task Time (in minutes): {total_task_time}')"
   ]
  },
  {
   "cell_type": "code",
   "execution_count": 34,
   "id": "c36b7f34",
   "metadata": {},
   "outputs": [],
   "source": [
    "# Add ':00' seconds to each string in the travel_time column to make it 'HH:MM:SS' format\n",
    "data['Travel Time'] = data['Travel Time'] + ':00'"
   ]
  },
  {
   "cell_type": "code",
   "execution_count": 35,
   "id": "063b2e28",
   "metadata": {},
   "outputs": [],
   "source": [
    "# Convert the travel_time column to timedelta and calculate total minutes\n",
    "data['Travel Time'] = pd.to_timedelta(data['Travel Time']).dt.total_seconds() / 60.0"
   ]
  },
  {
   "cell_type": "code",
   "execution_count": 36,
   "id": "34e722aa",
   "metadata": {},
   "outputs": [],
   "source": [
    "total_travel_time = data['Travel Time'].sum() / 60.0"
   ]
  },
  {
   "cell_type": "code",
   "execution_count": 37,
   "id": "6b54fd33",
   "metadata": {},
   "outputs": [
    {
     "name": "stdout",
     "output_type": "stream",
     "text": [
      "Total Travel Time (in hours): 39.31666666666667\n"
     ]
    }
   ],
   "source": [
    "print(f'Total Travel Time (in hours): {total_travel_time}')"
   ]
  },
  {
   "cell_type": "code",
   "execution_count": null,
   "id": "c527c5c8",
   "metadata": {},
   "outputs": [],
   "source": []
  }
 ],
 "metadata": {
  "kernelspec": {
   "display_name": "Python 3 (ipykernel)",
   "language": "python",
   "name": "python3"
  },
  "language_info": {
   "codemirror_mode": {
    "name": "ipython",
    "version": 3
   },
   "file_extension": ".py",
   "mimetype": "text/x-python",
   "name": "python",
   "nbconvert_exporter": "python",
   "pygments_lexer": "ipython3",
   "version": "3.11.2"
  }
 },
 "nbformat": 4,
 "nbformat_minor": 5
}
